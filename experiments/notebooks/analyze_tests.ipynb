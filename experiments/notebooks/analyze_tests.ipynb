{
 "cells": [
  {
   "cell_type": "markdown",
   "metadata": {},
   "source": [
    "# Análise dos testes"
   ]
  },
  {
   "cell_type": "markdown",
   "metadata": {},
   "source": [
    "### Imports"
   ]
  },
  {
   "cell_type": "code",
   "execution_count": null,
   "metadata": {},
   "outputs": [],
   "source": [
    "from os import makedirs\n",
    "from os.path import join\n",
    "from json import load, dump\n",
    "\n",
    "from scripts.test import Test\n",
    "from scripts.data import SimpleLesionData, SimpleDatasetAnalysis\n",
    "\n",
    "import scripts.definitions as defs\n",
    "import scripts.analysis as analysis"
   ]
  },
  {
   "cell_type": "markdown",
   "metadata": {},
   "source": [
    "### Configuração"
   ]
  },
  {
   "cell_type": "code",
   "execution_count": null,
   "metadata": {},
   "outputs": [],
   "source": [
    "TEST_NAME = 'LLaDerm-0.1-11B-4bit-SC_test_2025-04-08T07_21_49.243036.json'"
   ]
  },
  {
   "cell_type": "markdown",
   "metadata": {},
   "source": [
    "### Carregamento dos testes e dados"
   ]
  },
  {
   "cell_type": "code",
   "execution_count": null,
   "metadata": {},
   "outputs": [],
   "source": [
    "with open(join(defs.RESULTS_PATH, 'tests', TEST_NAME), 'r', encoding='utf-8') as file:\n",
    "    test = Test(**load(file))\n",
    "\n",
    "with open(join(defs.DATA_PATH, 'stt_data', 'test_dataset.json'), 'r', encoding='utf-8') as file:\n",
    "    test_dataset = [SimpleLesionData(**data) for data in load(file)]\n",
    "\n",
    "with open(join(defs.DATA_PATH, 'stt_data', 'training_dataset.json'), 'r', encoding='utf-8') as file:\n",
    "    training_dataset = [SimpleLesionData(**data) for data in load(file)]\n",
    "\n",
    "with open(join(defs.DATA_PATH, 'test_dataset_analysis.json'), 'r', encoding='utf-8') as file:\n",
    "    test_dataset_analysis = SimpleDatasetAnalysis(**load(file))\n",
    "\n",
    "with open(join(defs.DATA_PATH, 'training_dataset_analysis.json'), 'r', encoding='utf-8') as file:\n",
    "    training_dataset_analysis = SimpleDatasetAnalysis(**load(file))"
   ]
  },
  {
   "cell_type": "markdown",
   "metadata": {},
   "source": [
    "### Processamento dos testes"
   ]
  },
  {
   "cell_type": "code",
   "execution_count": null,
   "metadata": {},
   "outputs": [],
   "source": [
    "sanitized_results_on_test = analysis.structure_answers(test.model.prompt_type, test.results_on_test_data)\n",
    "sanitized_results_on_training = analysis.structure_answers(test.model.prompt_type, test.results_on_training_data)"
   ]
  },
  {
   "cell_type": "markdown",
   "metadata": {},
   "source": [
    "### Salvamento dos testes processados"
   ]
  },
  {
   "cell_type": "code",
   "execution_count": null,
   "metadata": {},
   "outputs": [],
   "source": [
    "valid_results_on_test = list(filter(lambda x: x.answer.valid, sanitized_results_on_test))\n",
    "invalid_results_on_test = list(filter(lambda x: not x.answer.valid, sanitized_results_on_test))\n",
    "\n",
    "print(\n",
    "    f'Resultados válidos para testes sobre dados de teste: {len(sanitized_results_on_test) - len(invalid_results_on_test)}')\n",
    "print(f'Resultados inválidos para testes sobre dados de teste: {len(invalid_results_on_test)}')\n",
    "\n",
    "valid_results_on_training = list(filter(lambda x: x.answer.valid, sanitized_results_on_training))\n",
    "invalid_results_on_training = list(filter(lambda x: not x.answer.valid, sanitized_results_on_training))\n",
    "\n",
    "print(\n",
    "    f'Resultados válidos para testes sobre dados de treinamento: {len(sanitized_results_on_test) - len(invalid_results_on_training)}')\n",
    "print(f'Resultados inválidos para testes sobre dados de treinamento: {len(invalid_results_on_training)}')\n",
    "\n",
    "test_analysis = analysis.TestAnalysis(\n",
    "    test_name=TEST_NAME,\n",
    "    valid_results_on_test_data=valid_results_on_test,\n",
    "    valid_results_on_training_data=valid_results_on_training,\n",
    "    invalid_results_on_test_data=invalid_results_on_test,\n",
    "    invalid_results_on_training_data=invalid_results_on_training\n",
    ")\n",
    "\n",
    "makedirs(join(defs.RESULTS_PATH, 'tests', 'analysis'), exist_ok=True)\n",
    "\n",
    "with open(join(defs.RESULTS_PATH, 'tests', 'analysis', TEST_NAME.replace('.json', '_analysis.json')), 'w', encoding='utf-8') as file:\n",
    "    dump(test_analysis.model_dump(), file, indent=4, ensure_ascii=False)"
   ]
  },
  {
   "cell_type": "markdown",
   "metadata": {},
   "source": [
    "### Associação de pares com as respostas corretas"
   ]
  },
  {
   "cell_type": "code",
   "execution_count": null,
   "metadata": {},
   "outputs": [],
   "source": [
    "result_pairs_on_test = analysis.associate_results_with_data(test_dataset,\n",
    "                                                            test.model.prompt_type,\n",
    "                                                            sanitized_results_on_test)\n",
    "\n",
    "result_pairs_on_training = analysis.associate_results_with_data(test_dataset,\n",
    "                                                                test.model.prompt_type,\n",
    "                                                                sanitized_results_on_training)"
   ]
  },
  {
   "cell_type": "markdown",
   "metadata": {},
   "source": [
    "### Análise"
   ]
  },
  {
   "cell_type": "code",
   "execution_count": null,
   "metadata": {},
   "outputs": [],
   "source": [
    "model_name = test.tested_model\n",
    "quantized = '(Quantizado)' if test.model.quantized else ''\n",
    "\n",
    "skin_lesion_pairs = analysis.get_label_pairs(result_pairs_on_test, 'skin_lesion')\n",
    "\n",
    "skin_lesion_labels = [analysis.sanitize_domain_class(key)\n",
    "                      for key in training_dataset_analysis.skin_lesion_distribution.classes]\n",
    "\n",
    "# TODO: Melhorar a visualização da matriz de confusão\n",
    "skin_lesion_accuracy = analysis.create_confusion_matrix(skin_lesion_pairs,  # type: ignore\n",
    "                                                        skin_lesion_labels,\n",
    "                                                        f'{model_name} {quantized} - Lesões de pele',\n",
    "                                                        join(defs.RESULTS_PATH, 'plots', f'skin_lesions_{TEST_NAME[:-4]}'))\n",
    "\n",
    "if test.model.prompt_type == defs.PromptType.REPORT:\n",
    "    risk_pairs = analysis.get_label_pairs(result_pairs_on_test, 'risk')\n",
    "\n",
    "    risk_labels = [key[0] for key in training_dataset_analysis.risk_distribution.classes]\n",
    "\n",
    "    risk_accuracy = analysis.create_confusion_matrix(risk_pairs,  # type: ignore\n",
    "                                                     risk_labels,\n",
    "                                                     f'{model_name} {quantized} - Classificação de risco',\n",
    "                                                     join(defs.RESULTS_PATH, 'plots', f'risk_{TEST_NAME[:-4]}'))"
   ]
  }
 ],
 "metadata": {
  "kernelspec": {
   "display_name": ".venv",
   "language": "python",
   "name": "python3"
  },
  "language_info": {
   "codemirror_mode": {
    "name": "ipython",
    "version": 3
   },
   "file_extension": ".py",
   "mimetype": "text/x-python",
   "name": "python",
   "nbconvert_exporter": "python",
   "pygments_lexer": "ipython3",
   "version": "3.10.12"
  }
 },
 "nbformat": 4,
 "nbformat_minor": 2
}
