{
 "cells": [
  {
   "cell_type": "markdown",
   "metadata": {},
   "source": [
    "# Unificação de pesos do adaptador com os do modelo"
   ]
  },
  {
   "cell_type": "markdown",
   "metadata": {},
   "source": [
    "### Autenticação"
   ]
  },
  {
   "cell_type": "code",
   "execution_count": null,
   "metadata": {},
   "outputs": [],
   "source": [
    "from scripts.authentcation import authenticate_huggingface\n",
    "\n",
    "authenticate_huggingface()"
   ]
  },
  {
   "cell_type": "markdown",
   "metadata": {},
   "source": [
    "### Carregamento do modelo"
   ]
  },
  {
   "cell_type": "code",
   "execution_count": null,
   "metadata": {},
   "outputs": [],
   "source": [
    "from unsloth import FastVisionModel\n",
    "import torch\n",
    "\n",
    "MODEL_NAME = '../weights/LLaMA_DERM_QLoRA_9500_11B'\n",
    "\n",
    "model, tokenizer = FastVisionModel.from_pretrained(\n",
    "    MODEL_NAME,\n",
    "    load_in_4bit = True,\n",
    "    use_gradient_checkpointing = 'unsloth',\n",
    ")"
   ]
  },
  {
   "cell_type": "markdown",
   "metadata": {},
   "source": [
    "### Salvamento da versão unificada do modelo"
   ]
  },
  {
   "cell_type": "code",
   "execution_count": null,
   "metadata": {},
   "outputs": [],
   "source": [
    "model.save_pretrained_merged('model', tokenizer, save_method = 'merged_16bit')"
   ]
  },
  {
   "cell_type": "markdown",
   "metadata": {},
   "source": [
    "### Envio do modelo para o Hugging Face"
   ]
  },
  {
   "cell_type": "code",
   "execution_count": null,
   "metadata": {},
   "outputs": [],
   "source": [
    "from getpass import getpass\n",
    "\n",
    "hf_token = getpass('Enter your Hugging Face token: ')\n",
    "\n",
    "# Repositório padrão do modelo atual\n",
    "model.push_to_hub_merged('ErFer7/LLaDerm', tokenizer, save_method='merged_16bit', token=hf_token)"
   ]
  }
 ],
 "metadata": {
  "language_info": {
   "name": "python"
  }
 },
 "nbformat": 4,
 "nbformat_minor": 2
}
