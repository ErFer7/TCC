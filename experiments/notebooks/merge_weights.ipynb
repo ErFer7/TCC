{
 "cells": [
  {
   "cell_type": "markdown",
   "metadata": {},
   "source": [
    "# Unificação de pesos do adaptador com os do modelo"
   ]
  },
  {
   "cell_type": "markdown",
   "metadata": {},
   "source": [
    "### Imports"
   ]
  },
  {
   "cell_type": "code",
   "execution_count": null,
   "metadata": {},
   "outputs": [],
   "source": [
    "from os import makedirs\n",
    "from os.path import join\n",
    "from json import load\n",
    "\n",
    "from unsloth import FastVisionModel\n",
    "from getpass import getpass\n",
    "\n",
    "import torch\n",
    "\n",
    "from scripts.authentication import authenticate_huggingface\n",
    "\n",
    "import scripts.definitions as defs"
   ]
  },
  {
   "cell_type": "markdown",
   "metadata": {},
   "source": [
    "### Autenticação"
   ]
  },
  {
   "cell_type": "code",
   "execution_count": null,
   "metadata": {},
   "outputs": [],
   "source": [
    "authenticate_huggingface()"
   ]
  },
  {
   "cell_type": "markdown",
   "metadata": {},
   "source": [
    "### Configuração"
   ]
  },
  {
   "cell_type": "code",
   "execution_count": null,
   "metadata": {},
   "outputs": [],
   "source": [
    "MODEL = defs.BASE_MODEL_NAME\n",
    "TEST_ON_TEST = True  # Testa o modelo sobre os dados de teste\n",
    "TEST_ON_TRAINING = False  # Testa o modelo sobre os dados de treinamento\n",
    "SAVE_FREQUENCY = 10  # Salva os resultados a cada N iterações\n",
    "TEMPERATURE = 0.005\n",
    "\n",
    "with open(join(defs.TRAINING_PATH, 'models.json'), 'r', encoding='utf-8') as file:\n",
    "    models = {model_name: defs.Model(**model) for model_name, model in load(file).items()}\n",
    "\n",
    "model_stats = models[MODEL]\n",
    "model_path = ''\n",
    "\n",
    "if model_stats.local:\n",
    "    model_path = join(defs.RESULTS_PATH, 'adapter_weights', MODEL)\n",
    "else:\n",
    "    model_path = MODEL\n",
    "\n",
    "quantized = model_stats.quantized"
   ]
  },
  {
   "cell_type": "markdown",
   "metadata": {},
   "source": [
    "### Carregamento do modelo"
   ]
  },
  {
   "cell_type": "code",
   "execution_count": null,
   "metadata": {},
   "outputs": [],
   "source": [
    "model, tokenizer = FastVisionModel.from_pretrained(\n",
    "    model_path,\n",
    "    load_in_4bit=quantized,  # type: ignore\n",
    "    use_gradient_checkpointing='unsloth',\n",
    ")"
   ]
  },
  {
   "cell_type": "markdown",
   "metadata": {},
   "source": [
    "### Salvamento da versão unificada do modelo"
   ]
  },
  {
   "cell_type": "code",
   "execution_count": null,
   "metadata": {},
   "outputs": [],
   "source": [
    "weights_path = join(defs.RESULTS_PATH, 'weights')\n",
    "\n",
    "makedirs(weights_path, exist_ok=True)\n",
    "\n",
    "model.save_pretrained_merged(weights_path, tokenizer, save_method='merged_16bit')"
   ]
  },
  {
   "cell_type": "markdown",
   "metadata": {},
   "source": [
    "### Envio do modelo para o Hugging Face"
   ]
  },
  {
   "cell_type": "code",
   "execution_count": null,
   "metadata": {},
   "outputs": [],
   "source": [
    "hf_token = getpass('Enter your Hugging Face token: ')\n",
    "\n",
    "model.push_to_hub_merged('ErFer7/LLaDerm', tokenizer, save_method='merged_16bit', token=hf_token)"
   ]
  }
 ],
 "metadata": {
  "kernelspec": {
   "display_name": ".venv",
   "language": "python",
   "name": "python3"
  },
  "language_info": {
   "name": "python",
   "version": "3.10.12"
  }
 },
 "nbformat": 4,
 "nbformat_minor": 2
}
