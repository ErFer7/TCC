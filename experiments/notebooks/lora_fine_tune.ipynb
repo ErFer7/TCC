{
 "cells": [
  {
   "cell_type": "markdown",
   "metadata": {},
   "source": [
    "# Fine-tuning com LoRA"
   ]
  },
  {
   "cell_type": "markdown",
   "metadata": {},
   "source": [
    "### Autenticação"
   ]
  },
  {
   "cell_type": "code",
   "execution_count": null,
   "metadata": {},
   "outputs": [],
   "source": [
    "from scripts.authentcation import authenticate_huggingface\n",
    "\n",
    "authenticate_huggingface()"
   ]
  },
  {
   "cell_type": "markdown",
   "metadata": {},
   "source": [
    "### Preparação dos dados"
   ]
  },
  {
   "cell_type": "code",
   "execution_count": null,
   "metadata": {},
   "outputs": [],
   "source": [
    "from datasets import load_dataset\n",
    "from scripts.data import generate_training_messages\n",
    "\n",
    "training_dataset = load_dataset('marmal88/skin_cancer', split='train')\n",
    "validation_dataset = load_dataset('marmal88/skin_cancer', split='validation')\n",
    "\n",
    "training_dataset_size = int(input('Enter the size of the training data: '))\n",
    "validation_data_size = training_dataset_size * 0.1\n",
    "\n",
    "training_messages = generate_training_messages(training_dataset, training_dataset_size)\n",
    "validation_messages = generate_training_messages(validation_dataset, validation_data_size)"
   ]
  },
  {
   "cell_type": "markdown",
   "metadata": {},
   "source": [
    "### Inicialização do LLaMa 3.2"
   ]
  },
  {
   "cell_type": "code",
   "execution_count": null,
   "metadata": {},
   "outputs": [],
   "source": [
    "from unsloth import FastVisionModel\n",
    "import torch\n",
    "\n",
    "model, tokenizer = FastVisionModel.from_pretrained(\n",
    "    'unsloth/Llama-3.2-11B-Vision-Instruct',\n",
    "    load_in_4bit = False,\n",
    "    use_gradient_checkpointing = 'unsloth',\n",
    ")"
   ]
  },
  {
   "cell_type": "markdown",
   "metadata": {},
   "source": [
    "### Configuração de treinamento"
   ]
  },
  {
   "cell_type": "code",
   "execution_count": null,
   "metadata": {},
   "outputs": [],
   "source": [
    "from unsloth import is_bf16_supported\n",
    "from unsloth.trainer import UnslothVisionDataCollator\n",
    "from trl import SFTTrainer, SFTConfig\n",
    "\n",
    "model = FastVisionModel.get_peft_model(\n",
    "    model,\n",
    "    finetune_vision_layers=True,\n",
    "    finetune_language_layers=True,\n",
    "    finetune_attention_modules=True,\n",
    "    finetune_mlp_modules=True,\n",
    "\n",
    "    r=64,\n",
    "    lora_alpha=64,\n",
    "    lora_dropout=0.05,\n",
    "    bias='none',\n",
    "    random_state=3407,\n",
    "    use_rslora=True,\n",
    "    loftq_config=None\n",
    ")\n",
    "\n",
    "FastVisionModel.for_training(model)\n",
    "\n",
    "trainer = SFTTrainer(\n",
    "    model=model,\n",
    "    tokenizer=tokenizer,\n",
    "    data_collator=UnslothVisionDataCollator(model, tokenizer),\n",
    "    train_dataset=training_messages,\n",
    "    eval_dataset=validation_messages,\n",
    "    args=SFTConfig(\n",
    "        eval_strategy='steps',\n",
    "        learning_rate=1e-4,\n",
    "        weight_decay=0.01,\n",
    "        lr_scheduler_type='constant',\n",
    "        seed=3407,\n",
    "        bf16=is_bf16_supported(),\n",
    "        fp16=not is_bf16_supported(),\n",
    "        remove_unused_columns=False,\n",
    "        optim='paged_adamw_32bit',\n",
    "        report_to='tensorboard',\n",
    "        logging_steps=0.05,\n",
    "        output_dir='outputs',\n",
    "        dataset_text_field='',\n",
    "        dataset_kwargs={'skip_prepare_dataset': True},\n",
    "        dataset_num_proc=4,\n",
    "        max_seq_length=2048\n",
    "    ),\n",
    ")"
   ]
  },
  {
   "cell_type": "markdown",
   "metadata": {},
   "source": [
    "### Treinamento"
   ]
  },
  {
   "cell_type": "code",
   "execution_count": null,
   "metadata": {},
   "outputs": [],
   "source": [
    "trainer_stats = trainer.train()"
   ]
  },
  {
   "cell_type": "code",
   "execution_count": null,
   "metadata": {},
   "outputs": [],
   "source": [
    "used_memory = round(torch.cuda.max_memory_reserved() / 1024 / 1024 / 1024, 3)\n",
    "print(f\"{trainer_stats.metrics['train_runtime']} seconds used for training.\")\n",
    "print(f\"{round(trainer_stats.metrics['train_runtime']/60, 2)} minutes used for training.\")\n",
    "print(f\"Peak reserved memory = {used_memory} GB.\")"
   ]
  },
  {
   "cell_type": "markdown",
   "metadata": {},
   "source": [
    "### Salvamento"
   ]
  },
  {
   "cell_type": "code",
   "execution_count": null,
   "metadata": {},
   "outputs": [],
   "source": [
    "peft_model = trainer.model\n",
    "\n",
    "model.save_pretrained(f'../weights/LLaMA_DERM_QLoRA_{training_dataset_size}_11B')\n",
    "tokenizer.save_pretrained(f'../weights/LLaMA_DERM_QLoRA_{training_dataset_size}_11B')"
   ]
  }
 ],
 "metadata": {
  "kernelspec": {
   "display_name": ".venv",
   "language": "python",
   "name": "python3"
  },
  "language_info": {
   "codemirror_mode": {
    "name": "ipython",
    "version": 3
   },
   "file_extension": ".py",
   "mimetype": "text/x-python",
   "name": "python",
   "nbconvert_exporter": "python",
   "pygments_lexer": "ipython3",
   "version": "3.12.7"
  }
 },
 "nbformat": 4,
 "nbformat_minor": 2
}
