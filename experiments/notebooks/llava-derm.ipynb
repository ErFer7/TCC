{
 "cells": [
  {
   "cell_type": "markdown",
   "metadata": {},
   "source": [
    "### Experimento básico de fine-tuning do LLaVa"
   ]
  },
  {
   "cell_type": "markdown",
   "metadata": {},
   "source": [
    "Autenticação"
   ]
  },
  {
   "cell_type": "code",
   "execution_count": 4,
   "metadata": {},
   "outputs": [],
   "source": [
    "from os.path import join\n",
    "\n",
    "KAGGLE_CREDENTIALS_PATH = join('..' ,'.secrets', 'kaggle.json')\n",
    "DATA_PATH = join('..', 'data')"
   ]
  },
  {
   "cell_type": "markdown",
   "metadata": {},
   "source": [
    "Download da tabela"
   ]
  },
  {
   "cell_type": "code",
   "execution_count": 13,
   "metadata": {},
   "outputs": [
    {
     "name": "stdout",
     "output_type": "stream",
     "text": [
      "train.csv.zip: Skipping, found more recently modified local copy (use --force to force download)\n"
     ]
    }
   ],
   "source": [
    "from os import environ\n",
    "from json import load, dump\n",
    "from zipfile import ZipFile\n",
    "\n",
    "import pandas as pd\n",
    "\n",
    "with open(KAGGLE_CREDENTIALS_PATH, 'r', encoding='utf-8') as file:\n",
    "    json = load(file)\n",
    "    environ['KAGGLE_USERNAME'] = json['username']\n",
    "    environ['KAGGLE_KEY'] = json['key']\n",
    "\n",
    "import kaggle\n",
    "\n",
    "kaggle.api.authenticate()\n",
    "kaggle.api.competition_download_file('siim-isic-melanoma-classification',\n",
    "                                     'train.csv',\n",
    "                                     join(DATA_PATH, 'compressed'))\n",
    "\n",
    "with ZipFile(join(DATA_PATH, 'compressed', 'train.csv.zip'), 'r') as file:\n",
    "    file.extractall(join(DATA_PATH, 'extracted'))\n",
    "\n",
    "training_data = pd.read_csv(join(DATA_PATH, 'extracted', 'train.csv'))"
   ]
  },
  {
   "cell_type": "markdown",
   "metadata": {},
   "source": [
    "Download das imagens"
   ]
  },
  {
   "cell_type": "code",
   "execution_count": null,
   "metadata": {},
   "outputs": [],
   "source": [
    "for _, row in training_data.iterrows():\n",
    "    image_name = f'{row['image_name']}.jpg'\n",
    "    kaggle.api.competition_download_file('siim-isic-melanoma-classification',\n",
    "                                         join('jpeg', 'train', image_name),\n",
    "                                         join(DATA_PATH, 'compressed', 'original_images'))"
   ]
  },
  {
   "cell_type": "markdown",
   "metadata": {},
   "source": [
    "Extração das imagens"
   ]
  },
  {
   "cell_type": "code",
   "execution_count": 36,
   "metadata": {},
   "outputs": [],
   "source": [
    "from os import listdir\n",
    "from shutil import copy\n",
    "\n",
    "for file in listdir(join(DATA_PATH, 'compressed', 'original_images')):\n",
    "    if file.endswith('.zip'):\n",
    "        with ZipFile(join(DATA_PATH, 'compressed', 'original_images', file), 'r') as compressed_file:\n",
    "            compressed_file.extractall(join(DATA_PATH, 'extracted', 'original_images'))\n",
    "    else:\n",
    "        copy(join(DATA_PATH, 'compressed', 'original_images', file), join(DATA_PATH, 'extracted', 'original_images', file))"
   ]
  },
  {
   "cell_type": "markdown",
   "metadata": {},
   "source": [
    "Redefinição de tamanho para no máximo 1000p"
   ]
  },
  {
   "cell_type": "code",
   "execution_count": 38,
   "metadata": {},
   "outputs": [],
   "source": [
    "from multiprocessing import Pool\n",
    "from PIL import Image\n",
    "\n",
    "def resize(file):\n",
    "    with Image.open(join(DATA_PATH, 'extracted', 'original_images', file)) as image:\n",
    "        new_size_proportion = 1000 / max(image.size)\n",
    "        resized_image = image.resize((int(image.size[0] * new_size_proportion), int(image.size[1] * new_size_proportion)))\n",
    "        resized_image.save(join(DATA_PATH, 'images_0', file), 'JPEG')\n",
    "\n",
    "with Pool() as pool:\n",
    "    pool.map(resize, listdir(join(DATA_PATH, 'extracted', 'original_images')))"
   ]
  },
  {
   "cell_type": "markdown",
   "metadata": {},
   "source": [
    "Definição dos dados de treinamento"
   ]
  },
  {
   "cell_type": "code",
   "execution_count": 39,
   "metadata": {},
   "outputs": [],
   "source": [
    "from uuid import uuid4\n",
    "\n",
    "dataset = []\n",
    "\n",
    "for _, row in training_data.iterrows():\n",
    "    dataset.append({\n",
    "        'id': str(uuid4()),\n",
    "        'image': f'{row['image_name']}.jpg',\n",
    "        'conversations': [\n",
    "            {\n",
    "                'from': 'human',\n",
    "                'value': 'Is this a melanoma benign or malignant?'\n",
    "            },\n",
    "            {\n",
    "                'from': 'gpt',\n",
    "                'value': f'This melanoma is {row['benign_malignant']}'\n",
    "            }\n",
    "        ]\n",
    "    })\n",
    "\n",
    "with open(join(DATA_PATH, 'training_dataset.json'), 'w', encoding='utf-8') as file:\n",
    "    dump(dataset, file, ensure_ascii=False, indent=4)"
   ]
  }
 ],
 "metadata": {
  "kernelspec": {
   "display_name": ".venv",
   "language": "python",
   "name": "python3"
  },
  "language_info": {
   "codemirror_mode": {
    "name": "ipython",
    "version": 3
   },
   "file_extension": ".py",
   "mimetype": "text/x-python",
   "name": "python",
   "nbconvert_exporter": "python",
   "pygments_lexer": "ipython3",
   "version": "3.12.4"
  }
 },
 "nbformat": 4,
 "nbformat_minor": 2
}
