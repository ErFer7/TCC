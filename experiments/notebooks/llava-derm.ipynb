{
 "cells": [
  {
   "cell_type": "markdown",
   "metadata": {},
   "source": [
    "### Experimento básico de fine-tuning do LLaVa"
   ]
  },
  {
   "cell_type": "code",
   "execution_count": 12,
   "metadata": {},
   "outputs": [],
   "source": [
    "# type: ignore\n",
    "from os.path import join\n",
    "\n",
    "KAGGLE_CREDENTIALS_PATH = join('..' ,'.secrets', 'kaggle.json')\n",
    "DATA_PATH = join('..', '.data')"
   ]
  },
  {
   "cell_type": "code",
   "execution_count": 13,
   "metadata": {},
   "outputs": [
    {
     "name": "stdout",
     "output_type": "stream",
     "text": [
      "train.csv.zip: Skipping, found more recently modified local copy (use --force to force download)\n"
     ]
    }
   ],
   "source": [
    "# type: ignore\n",
    "from os import environ\n",
    "from json import load\n",
    "from zipfile import ZipFile\n",
    "\n",
    "import pandas as pd\n",
    "\n",
    "with open(KAGGLE_CREDENTIALS_PATH, 'r', encoding='utf-8') as file:\n",
    "    json = load(file)\n",
    "    environ['KAGGLE_USERNAME'] = json['username']\n",
    "    environ['KAGGLE_KEY'] = json['key']\n",
    "\n",
    "import kaggle\n",
    "\n",
    "kaggle.api.authenticate()\n",
    "kaggle.api.competition_download_file('siim-isic-melanoma-classification',\n",
    "                                     'train.csv',\n",
    "                                     path=DATA_PATH,\n",
    "                                     quiet=False,\n",
    "                                     force=False)\n",
    "\n",
    "with ZipFile(join(DATA_PATH, 'train.csv.zip'), 'r') as file:\n",
    "    file.extractall(join(DATA_PATH, 'extracted'))\n",
    "\n",
    "training_data = pd.read_csv(join(DATA_PATH, 'extracted', 'train.csv'))"
   ]
  }
 ],
 "metadata": {
  "kernelspec": {
   "display_name": ".venv",
   "language": "python",
   "name": "python3"
  },
  "language_info": {
   "codemirror_mode": {
    "name": "ipython",
    "version": 3
   },
   "file_extension": ".py",
   "mimetype": "text/x-python",
   "name": "python",
   "nbconvert_exporter": "python",
   "pygments_lexer": "ipython3",
   "version": "3.12.4"
  }
 },
 "nbformat": 4,
 "nbformat_minor": 2
}
