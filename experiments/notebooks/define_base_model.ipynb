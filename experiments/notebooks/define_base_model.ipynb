{
 "cells": [
  {
   "cell_type": "markdown",
   "id": "623dcdf9",
   "metadata": {},
   "source": [
    "## Definição do modelo base"
   ]
  },
  {
   "cell_type": "markdown",
   "id": "ff94d095",
   "metadata": {},
   "source": [
    "### Imports"
   ]
  },
  {
   "cell_type": "code",
   "execution_count": null,
   "id": "19f4814f",
   "metadata": {},
   "outputs": [],
   "source": [
    "from os.path import join, exists\n",
    "from os import makedirs\n",
    "from json import load, dump\n",
    "\n",
    "from scripts.definitions import Model, BASE_MODEL_NAME, TRAINING_PATH, PromptType"
   ]
  },
  {
   "cell_type": "markdown",
   "id": "9252365d",
   "metadata": {},
   "source": [
    "### Definição"
   ]
  },
  {
   "cell_type": "code",
   "execution_count": null,
   "id": "14fe0b92",
   "metadata": {},
   "outputs": [],
   "source": [
    "makedirs(TRAINING_PATH, exist_ok=True)\n",
    "\n",
    "models_path = join(TRAINING_PATH, 'models.json')\n",
    "\n",
    "models = {}\n",
    "\n",
    "if exists(models_path):\n",
    "    with open(models_path, 'r', encoding='utf-8') as file:\n",
    "        models = {name: Model(**data) for name, data in load(file).items()}\n",
    "\n",
    "base_model = Model(\n",
    "    local=False,\n",
    "    quantized=None,\n",
    "    prompt_type=PromptType.SIMPLE_CLASSIFICATION,\n",
    "    version='3.2',\n",
    "    size=11\n",
    ")\n",
    "\n",
    "models[BASE_MODEL_NAME] = base_model\n",
    "\n",
    "for name, trained_model in models.items():\n",
    "    models[name] = trained_model.model_dump()  # type: ignore\n",
    "\n",
    "with open(models_path, 'w+', encoding='utf-8') as file:\n",
    "    dump(models, file, indent=4, ensure_ascii=False)"
   ]
  }
 ],
 "metadata": {
  "kernelspec": {
   "display_name": ".venv",
   "language": "python",
   "name": "python3"
  },
  "language_info": {
   "name": "python",
   "version": "3.10.12"
  }
 },
 "nbformat": 4,
 "nbformat_minor": 5
}
