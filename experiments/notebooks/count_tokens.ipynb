{
 "cells": [
  {
   "cell_type": "markdown",
   "id": "6fc3e89f",
   "metadata": {},
   "source": [
    "## Conta os tokens"
   ]
  },
  {
   "cell_type": "markdown",
   "id": "7a6d3ff9",
   "metadata": {},
   "source": [
    "### Configura o ambiente"
   ]
  },
  {
   "cell_type": "code",
   "execution_count": null,
   "id": "89d2717c",
   "metadata": {},
   "outputs": [],
   "source": [
    "from os import environ\n",
    "\n",
    "environ['CUDA_VISIBLE_DEVICES'] = input('Enter GPU ID: ')"
   ]
  },
  {
   "cell_type": "markdown",
   "id": "88d1c935",
   "metadata": {},
   "source": [
    "### Imports"
   ]
  },
  {
   "cell_type": "code",
   "execution_count": null,
   "id": "b426a4ed",
   "metadata": {},
   "outputs": [],
   "source": [
    "from os.path import join\n",
    "from json import load\n",
    "\n",
    "from unsloth import FastVisionModel\n",
    "from tqdm.notebook import tqdm\n",
    "from PIL import Image\n",
    "\n",
    "import torch\n",
    "\n",
    "from scripts.authentication import authenticate_huggingface\n",
    "from scripts.messages import create_training_message\n",
    "from scripts.data import SimpleLesionData, SimpleDatasetAnalysis\n",
    "\n",
    "import scripts.definitions as defs"
   ]
  },
  {
   "cell_type": "markdown",
   "id": "dba1de49",
   "metadata": {},
   "source": [
    "### Autenticação"
   ]
  },
  {
   "cell_type": "code",
   "execution_count": null,
   "id": "de266fb0",
   "metadata": {},
   "outputs": [],
   "source": [
    "authenticate_huggingface()"
   ]
  },
  {
   "cell_type": "markdown",
   "id": "31a9e101",
   "metadata": {},
   "source": [
    "### Configurações"
   ]
  },
  {
   "cell_type": "code",
   "execution_count": null,
   "id": "f9e94148",
   "metadata": {},
   "outputs": [],
   "source": [
    "QUANTIZED = True"
   ]
  },
  {
   "cell_type": "markdown",
   "id": "2ca6da32",
   "metadata": {},
   "source": [
    "### Carregamento do dataset"
   ]
  },
  {
   "cell_type": "code",
   "execution_count": null,
   "id": "c3465cec",
   "metadata": {},
   "outputs": [],
   "source": [
    "with open(join(defs.DATA_PATH, 'stt_data', 'simple_dataset.json'), 'r', encoding='utf-8') as file:\n",
    "    dataset = [SimpleLesionData(**data) for data in load(file)]\n",
    "\n",
    "with open(join(defs.DATA_PATH, 'simple_dataset_analysis.json'), 'r', encoding='utf-8') as file:\n",
    "    dataset_analysis = SimpleDatasetAnalysis(**load(file))"
   ]
  },
  {
   "cell_type": "markdown",
   "id": "8ca1ee66",
   "metadata": {},
   "source": [
    "### Preparação das mensagens"
   ]
  },
  {
   "cell_type": "code",
   "execution_count": null,
   "id": "61ea702c",
   "metadata": {},
   "outputs": [],
   "source": [
    "messages = []\n",
    "\n",
    "for data in tqdm(dataset, desc='Criando mensagens: '):\n",
    "    messages.append(create_training_message(defs.PromptType.REPORT, data, dataset_analysis))"
   ]
  },
  {
   "cell_type": "markdown",
   "id": "95f5da7a",
   "metadata": {},
   "source": [
    "### Carregamento do tokenizador"
   ]
  },
  {
   "cell_type": "code",
   "execution_count": null,
   "id": "a81bb1c3",
   "metadata": {},
   "outputs": [],
   "source": [
    "model, tokenizer = FastVisionModel.from_pretrained(\n",
    "    defs.BASE_MODEL_NAME,\n",
    "    load_in_4bit=QUANTIZED,\n",
    "    use_gradient_checkpointing='unsloth'\n",
    ")\n",
    "\n",
    "FastVisionModel.for_inference(model)"
   ]
  },
  {
   "cell_type": "markdown",
   "id": "9ed5f0b4",
   "metadata": {},
   "source": [
    "### Contagem dos tokens"
   ]
  },
  {
   "cell_type": "code",
   "execution_count": null,
   "id": "385e6606",
   "metadata": {},
   "outputs": [],
   "source": [
    "token_counts = []\n",
    "\n",
    "for message in tqdm(messages, desc='Contando os tokens das mensagens: '):\n",
    "    image = Image.open(join('..', message['messages'][0]['content'][1]['image'])).convert('RGB')\n",
    "    input_text = tokenizer.apply_chat_template([message['messages'][0]], add_generation_prompt=True)\n",
    "    output_text = tokenizer.apply_chat_template([message['messages'][1]], add_generation_prompt=True)\n",
    "\n",
    "    input_token_count = tokenizer(\n",
    "        image,\n",
    "        input_text,\n",
    "        add_special_tokens=False,\n",
    "        return_length=True\n",
    "    )['input_ids'][0]\n",
    "\n",
    "    output_token_count = tokenizer(\n",
    "        None,\n",
    "        output_text,\n",
    "        add_special_tokens=False,\n",
    "        return_length=True\n",
    "    )['input_ids'][0]\n",
    "\n",
    "    token_counts.append(len(input_token_count) + len(output_token_count))\n",
    "\n",
    "print(f'Mínimo: {min(token_counts)}')\n",
    "print(f'Máximo: {max(token_counts)}')\n",
    "print(f'Média: {sum(token_counts) / len(token_counts)}')"
   ]
  }
 ],
 "metadata": {
  "kernelspec": {
   "display_name": ".venv",
   "language": "python",
   "name": "python3"
  },
  "language_info": {
   "name": "python",
   "version": "3.10.12"
  }
 },
 "nbformat": 4,
 "nbformat_minor": 5
}
