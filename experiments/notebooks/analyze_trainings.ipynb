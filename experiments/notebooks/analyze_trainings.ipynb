{
 "cells": [
  {
   "cell_type": "markdown",
   "metadata": {},
   "source": [
    "# Análise de treinamentos"
   ]
  },
  {
   "cell_type": "markdown",
   "metadata": {},
   "source": [
    "### Carrega os dados de treinamento"
   ]
  },
  {
   "cell_type": "code",
   "execution_count": null,
   "metadata": {},
   "outputs": [],
   "source": [
    "from tensorboard.backend.event_processing import event_accumulator\n",
    "import pandas as pd\n",
    "import matplotlib.pyplot as plt\n",
    "\n",
    "\n",
    "def plot_losses(path: str):\n",
    "    events = event_accumulator.EventAccumulator(path)\n",
    "    events.Reload()\n",
    "\n",
    "    print(f'Available tags: {events.Tags()[\"scalars\"]}')\n",
    "\n",
    "    train_loss = []\n",
    "    train_steps = []\n",
    "    eval_loss = []\n",
    "    eval_steps = []\n",
    "\n",
    "    for e in events.Scalars('train/loss'):\n",
    "        train_steps.append(e.step)\n",
    "        train_loss.append(e.value)\n",
    "\n",
    "    if 'eval/loss' in events.Tags()['scalars']:\n",
    "        for e in events.Scalars('eval/loss'):\n",
    "            eval_steps.append(e.step)\n",
    "            eval_loss.append(e.value)\n",
    "\n",
    "    plt.figure(figsize=(10, 6))\n",
    "    plt.plot(train_steps, train_loss, label='Loss de treinamento', color='blue')\n",
    "    if eval_loss:\n",
    "        plt.plot(eval_steps, eval_loss, label='Loss de validação', color='red')\n",
    "\n",
    "    plt.title('Loss de treinamento e validação')\n",
    "    plt.xlabel('Passos')\n",
    "    plt.ylabel('Loss')\n",
    "    plt.grid(True)\n",
    "    plt.legend()\n",
    "    plt.savefig('../plots/loss.png', dpi=300, bbox_inches='tight')\n",
    "    plt.show()\n",
    "\n",
    "    print('\\nTraining Loss Statistics:')\n",
    "    print(pd.Series(train_loss).describe())\n",
    "    if eval_loss:\n",
    "        print('\\nValidation Loss Statistics:')\n",
    "        print(pd.Series(eval_loss).describe())\n",
    "\n",
    "path = input('Log name: ')\n",
    "\n",
    "plot_losses(f'./outputs/runs/{path}')"
   ]
  }
 ],
 "metadata": {
  "kernelspec": {
   "display_name": ".venv",
   "language": "python",
   "name": "python3"
  },
  "language_info": {
   "codemirror_mode": {
    "name": "ipython",
    "version": 3
   },
   "file_extension": ".py",
   "mimetype": "text/x-python",
   "name": "python",
   "nbconvert_exporter": "python",
   "pygments_lexer": "ipython3",
   "version": "3.12.7"
  }
 },
 "nbformat": 4,
 "nbformat_minor": 2
}
