{
 "cells": [
  {
   "cell_type": "markdown",
   "metadata": {},
   "source": [
    "# Testes"
   ]
  },
  {
   "cell_type": "markdown",
   "metadata": {},
   "source": [
    "### Autenticação"
   ]
  },
  {
   "cell_type": "code",
   "execution_count": null,
   "metadata": {},
   "outputs": [],
   "source": [
    "from scripts.authentcation import authenticate_huggingface\n",
    "\n",
    "authenticate_huggingface()"
   ]
  },
  {
   "cell_type": "markdown",
   "metadata": {},
   "source": [
    "### Carregamento do dataset"
   ]
  },
  {
   "cell_type": "code",
   "execution_count": null,
   "metadata": {},
   "outputs": [],
   "source": [
    "from datasets import load_dataset\n",
    "\n",
    "dataset = load_dataset('marmal88/skin_cancer', split='test')"
   ]
  },
  {
   "cell_type": "markdown",
   "metadata": {},
   "source": [
    "### Carregamento do modelo"
   ]
  },
  {
   "cell_type": "code",
   "execution_count": null,
   "metadata": {},
   "outputs": [],
   "source": [
    "from unsloth import FastVisionModel\n",
    "import torch\n",
    "\n",
    "MODEL_NAME = 'unsloth/Llama-3.2-11B-Vision-Instruct'\n",
    "\n",
    "model, tokenizer = FastVisionModel.from_pretrained(\n",
    "    MODEL_NAME,\n",
    "    load_in_4bit=True,\n",
    "    use_gradient_checkpointing='unsloth',\n",
    ")"
   ]
  },
  {
   "cell_type": "markdown",
   "metadata": {},
   "source": [
    "### Preparação do teste"
   ]
  },
  {
   "cell_type": "code",
   "execution_count": null,
   "metadata": {},
   "outputs": [],
   "source": [
    "from os import makedirs\n",
    "from os.path import join, exists\n",
    "\n",
    "from scripts.messages import add_inference_message\n",
    "from scripts.data import generate_test_samples\n",
    "\n",
    "DIRECTORY = '../analysis'\n",
    "\n",
    "DATA_SIZE = 100\n",
    "\n",
    "OPEN_PROMPT = 'Classify the skin lesion in the image.'\n",
    "CLASS_ONLY_PROMPT = OPEN_PROMPT + ' Say only the name of the disease and nothing else. The diseases to be classified are: ' + \\\n",
    "    'melanocytic Nevi, melanoma, benign keratosis-like lesions, ' + \\\n",
    "    'basal cell carcinoma, actinic keratoses, vascular lesions and dermatofibroma.'\n",
    "\n",
    "prompt = OPEN_PROMPT\n",
    "test_type = ''\n",
    "\n",
    "if prompt == OPEN_PROMPT:\n",
    "    test_type = 'open'\n",
    "elif prompt == CLASS_ONLY_PROMPT:\n",
    "    test_type = 'class_only'\n",
    "\n",
    "messages = add_inference_message(prompt)\n",
    "samples = generate_test_samples(dataset, DATA_SIZE)\n",
    "test_name = f'{MODEL_NAME.strip(\"unsloth/\").strip(\"../weights/\")}_test_{DATA_SIZE}_{test_type}'\n",
    "test_output = {'model': MODEL_NAME, 'data_size': DATA_SIZE, 'type': test_type, 'results': []}\n",
    "\n",
    "if not exists(DIRECTORY):\n",
    "    makedirs(DIRECTORY)"
   ]
  },
  {
   "cell_type": "markdown",
   "metadata": {},
   "source": [
    "### Testes"
   ]
  },
  {
   "cell_type": "code",
   "execution_count": null,
   "metadata": {},
   "outputs": [],
   "source": [
    "from tqdm.notebook import tqdm\n",
    "\n",
    "FastVisionModel.for_inference(model)\n",
    "\n",
    "input_text = tokenizer.apply_chat_template(messages, add_generation_prompt=True)\n",
    "\n",
    "for idx, (image, disease) in enumerate(tqdm(samples, desc='Testing: ')):\n",
    "    inputs = tokenizer(\n",
    "        image,\n",
    "        input_text,\n",
    "        add_special_tokens=False,\n",
    "        return_tensors='pt',\n",
    "    ).to('cuda')\n",
    "\n",
    "    outputs = model.generate(\n",
    "        **inputs,\n",
    "        max_new_tokens=128,\n",
    "        use_cache=True,\n",
    "        temperature=0.1,\n",
    "        min_p=0.1\n",
    "    )\n",
    "\n",
    "    result = tokenizer.decode(outputs[0], skip_special_tokens=True)\n",
    "    assistant_message = result.split('assistant')[-1].strip()\n",
    "    test_output['results'].append({'expected': disease.replace('_', ' '), 'actual': assistant_message})"
   ]
  },
  {
   "cell_type": "markdown",
   "metadata": {},
   "source": [
    "### Salvamento dos testes"
   ]
  },
  {
   "cell_type": "code",
   "execution_count": null,
   "metadata": {},
   "outputs": [],
   "source": [
    "from json import dump\n",
    "\n",
    "output_path = join(DIRECTORY, f'{test_name}.json')\n",
    "\n",
    "with open(output_path, 'w') as f:\n",
    "    dump(test_output, f, indent=4)"
   ]
  }
 ],
 "metadata": {
  "language_info": {
   "name": "python"
  }
 },
 "nbformat": 4,
 "nbformat_minor": 2
}
